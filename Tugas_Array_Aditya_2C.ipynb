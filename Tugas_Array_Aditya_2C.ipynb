{
 "cells": [
  {
   "cell_type": "code",
   "execution_count": 7,
   "id": "046c99c0",
   "metadata": {},
   "outputs": [
    {
     "name": "stdout",
     "output_type": "stream",
     "text": [
      "DataFrame setelah menambahkan kolom 'Domisili_asal':\n",
      "  Nama Kelas Gender     Nomor_HP Domisili_asal\n",
      "0  Ana    2A  Cewek  08113322582     Luar kota\n",
      "1  Anu    2B  Cowok  08129988563     Pekanbaru\n",
      "2  Ano    2C  Cowok  08137896541     Pekanbaru\n",
      "3  Ani    2D  Cewek  08144447789     Luar kota\n",
      "4  Ane    2E  Cewek  08158886665     Luar kota\n",
      "5  Abu    2F  Cowok  08173337744     Pekanbaru\n",
      "6  Abi    2G  Cowok  08198877444     Pekanbaru\n",
      "\n",
      "\n"
     ]
    }
   ],
   "source": [
    "import pandas as pd\n",
    "\n",
    "# Membuat DataFrame\n",
    "data = {'Nama'    : ['Ana', 'Anu', 'Ano', 'Ani', 'Ane', 'Abu', 'Abi'],\n",
    "        'Kelas'   : ['2A', '2B', '2C', '2D', '2E', '2F', '2G'],\n",
    "        'Gender'  : ['Cewek', 'Cowok', 'Cowok', 'Cewek', 'Cewek', 'Cowok', 'Cowok'],\n",
    "        'Nomor_HP': ['08113322582', '08129988563', '08137896541', '08144447789', '08158886665', '08173337744', '08198877444']}\n",
    "\n",
    "df = pd.DataFrame(data)\n",
    "\n",
    "#Menambahkan kolom baru\n",
    "df['Domisili_asal'] = ['Luar kota', 'Pekanbaru', 'Pekanbaru', 'Luar kota', 'Luar kota', 'Pekanbaru', 'Pekanbaru']\n",
    "print(\"DataFrame setelah menambahkan kolom 'Domisili_asal':\") \n",
    "print(df)\n",
    "print(\"\\n\")"
   ]
  },
  {
   "cell_type": "code",
   "execution_count": 8,
   "id": "eae1bdad",
   "metadata": {},
   "outputs": [
    {
     "name": "stdout",
     "output_type": "stream",
     "text": [
      "DataFrame setelah menghapus kolom 'Nomor_HP':\n",
      "  Nama Kelas Gender\n",
      "0  Ana    2A  Cewek\n",
      "1  Anu    2B  Cowok\n",
      "2  Ano    2C  Cowok\n",
      "3  Ani    2D  Cewek\n",
      "4  Ane    2E  Cewek\n",
      "5  Abu    2F  Cowok\n",
      "6  Abi    2G  Cowok\n",
      "\n",
      "\n"
     ]
    }
   ],
   "source": [
    "import pandas as pd\n",
    "\n",
    "# Membuat DataFrame\n",
    "data = {'Nama'    : ['Ana', 'Anu', 'Ano', 'Ani', 'Ane', 'Abu', 'Abi'],\n",
    "        'Kelas'   : ['2A', '2B', '2C', '2D', '2E', '2F', '2G'],\n",
    "        'Gender'  : ['Cewek', 'Cowok', 'Cowok', 'Cewek', 'Cewek', 'Cowok', 'Cowok'],\n",
    "        'Nomor_HP': ['08113322582', '08129988563', '08137896541', '08144447789', '08158886665', '08173337744', '08198877444']}\n",
    "\n",
    "df = pd.DataFrame(data)\n",
    "\n",
    "#Menghapus kolom 'Nomor_HP'\n",
    "df = df.drop(columns=['Nomor_HP'])\n",
    "print(\"DataFrame setelah menghapus kolom 'Nomor_HP':\")\n",
    "print(df)\n",
    "print(\"\\n\")"
   ]
  },
  {
   "cell_type": "code",
   "execution_count": 9,
   "id": "ba3c7ac9",
   "metadata": {},
   "outputs": [
    {
     "name": "stdout",
     "output_type": "stream",
     "text": [
      "DataFrame setelah menambahkan kolom 'Usia':\n",
      "  Nama Kelas Gender     Nomor_HP Usia\n",
      "0  Ana    2A  Cewek  08113322582   20\n",
      "1  Anu    2B  Cowok  08129988563   20\n",
      "2  Ano    2C  Cowok  08137896541   19\n",
      "3  Ani    2D  Cewek  08144447789   19\n",
      "4  Ane    2E  Cewek  08158886665   18\n",
      "5  Abu    2F  Cowok  08173337744   18\n",
      "6  Abi    2G  Cowok  08198877444   17\n",
      "\n",
      "\n"
     ]
    }
   ],
   "source": [
    "import pandas as pd\n",
    "\n",
    "# Membuat DataFrame\n",
    "data = {'Nama'    : ['Ana', 'Anu', 'Ano', 'Ani', 'Ane', 'Abu', 'Abi'],\n",
    "        'Kelas'   : ['2A', '2B', '2C', '2D', '2E', '2F', '2G'],\n",
    "        'Gender'  : ['Cewek', 'Cowok', 'Cowok', 'Cewek', 'Cewek', 'Cowok', 'Cowok'],\n",
    "        'Nomor_HP': ['08113322582', '08129988563', '08137896541', '08144447789', '08158886665', '08173337744', '08198877444']}\n",
    "\n",
    "df = pd.DataFrame(data)\n",
    "\n",
    "#Menambahkan kolom baru\n",
    "df['Usia'] = ['20', '20', '19', '19', '18', '18', '17']\n",
    "print(\"DataFrame setelah menambahkan kolom 'Usia':\") \n",
    "print(df)\n",
    "print(\"\\n\")"
   ]
  },
  {
   "cell_type": "code",
   "execution_count": 14,
   "id": "98ff3a7c",
   "metadata": {},
   "outputs": [
    {
     "name": "stdout",
     "output_type": "stream",
     "text": [
      "DataFrame setelah menambahkan kolom 'Usia':\n",
      "  Nama Kelas Gender     Nomor_HP Usia\n",
      "0  Ana    2A  Cewek  08113322582   20\n",
      "1  Anu    2B  Cowok  08129988563   20\n",
      "2  Ano    2C  Cowok  08137896541   19\n",
      "3  Ani    2D  Cewek  08144447789   19\n",
      "4  Ane    2E  Cewek  08158886665   18\n",
      "5  Abu    2F  Cowok  08173337744   18\n",
      "6  Abi    2G  Cowok  08198877444   17\n",
      "\n",
      "\n",
      "Rata-rata usia: 2885988454545.2856\n",
      "\n",
      "\n",
      "Total usia: 20201919181817\n",
      "\n",
      "\n"
     ]
    }
   ],
   "source": [
    "import pandas as pd\n",
    "\n",
    "# Membuat DataFrame\n",
    "data = {'Nama'    : ['Ana', 'Anu', 'Ano', 'Ani', 'Ane', 'Abu', 'Abi'],\n",
    "        'Kelas'   : ['2A', '2B', '2C', '2D', '2E', '2F', '2G'],\n",
    "        'Gender'  : ['Cewek', 'Cowok', 'Cowok', 'Cewek', 'Cewek', 'Cowok', 'Cowok'],\n",
    "        'Nomor_HP': ['08113322582', '08129988563', '08137896541', '08144447789', '08158886665', '08173337744', '08198877444']}\n",
    "\n",
    "df = pd.DataFrame(data)\n",
    "\n",
    "#Menambahkan kolom baru\n",
    "df['Usia'] = ['20', '20', '19', '19', '18', '18', '17']\n",
    "print(\"DataFrame setelah menambahkan kolom 'Usia':\") \n",
    "print(df)\n",
    "print(\"\\n\")\n",
    "\n",
    "# Menghitung rata-rata usia\n",
    "rata_usia = df['Usia'].mean()\n",
    "print(\"Rata-rata usia:\", rata_usia)\n",
    "print(\"\\n\")\n",
    "\n",
    "# Menghitung total usia\n",
    "total_usia = df['Usia'].sum()\n",
    "print(\"Total usia:\", total_usia)\n",
    "print(\"\\n\")"
   ]
  },
  {
   "cell_type": "code",
   "execution_count": 18,
   "id": "6f279860",
   "metadata": {},
   "outputs": [
    {
     "name": "stdout",
     "output_type": "stream",
     "text": [
      "DataFrame setelah menambahkan kolom 'Domisili_asal':\n",
      "  Nama Kelas Gender     Nomor_HP Domisili_asal\n",
      "0  Ana    2A  Cewek  08113322582     Luar kota\n",
      "1  Anu    2B  Cowok  08129988563     Pekanbaru\n",
      "2  Ano    2C  Cowok  08137896541     Pekanbaru\n",
      "3  Ani    2D  Cewek  08144447789     Luar kota\n",
      "4  Ane    2E  Cewek  08158886665     Luar kota\n",
      "5  Abu    2F  Cowok  08173337744     Pekanbaru\n",
      "6  Abi    2G  Cowok  08198877444     Pekanbaru\n",
      "\n",
      "\n",
      "Jumlah orang per domisili asal:\n",
      "Domisili_asal\n",
      "Pekanbaru    4\n",
      "Luar kota    3\n",
      "Name: count, dtype: int64\n"
     ]
    }
   ],
   "source": [
    "import pandas as pd\n",
    "\n",
    "# Membuat DataFrame\n",
    "data = {'Nama'    : ['Ana', 'Anu', 'Ano', 'Ani', 'Ane', 'Abu', 'Abi'],\n",
    "        'Kelas'   : ['2A', '2B', '2C', '2D', '2E', '2F', '2G'],\n",
    "        'Gender'  : ['Cewek', 'Cowok', 'Cowok', 'Cewek', 'Cewek', 'Cowok', 'Cowok'],\n",
    "        'Nomor_HP': ['08113322582', '08129988563', '08137896541', '08144447789', '08158886665', '08173337744', '08198877444']}\n",
    "\n",
    "df = pd.DataFrame(data)\n",
    "\n",
    "#Menambahkan kolom baru\n",
    "df['Domisili_asal'] = ['Luar kota', 'Pekanbaru', 'Pekanbaru', 'Luar kota', 'Luar kota', 'Pekanbaru', 'Pekanbaru']\n",
    "print(\"DataFrame setelah menambahkan kolom 'Domisili_asal':\") \n",
    "print(df)\n",
    "print(\"\\n\")\n",
    "\n",
    "#Menghitung jumlah orang di setiap domisili asal\n",
    "jumlah_per_domisili_asal = df['Domisili_asal'].value_counts()\n",
    "print(\"Jumlah orang per domisili asal:\")\n",
    "print(jumlah_per_domisili_asal)"
   ]
  },
  {
   "cell_type": "code",
   "execution_count": null,
   "id": "31db8a1a",
   "metadata": {},
   "outputs": [],
   "source": []
  }
 ],
 "metadata": {
  "kernelspec": {
   "display_name": "Python 3 (ipykernel)",
   "language": "python",
   "name": "python3"
  },
  "language_info": {
   "codemirror_mode": {
    "name": "ipython",
    "version": 3
   },
   "file_extension": ".py",
   "mimetype": "text/x-python",
   "name": "python",
   "nbconvert_exporter": "python",
   "pygments_lexer": "ipython3",
   "version": "3.11.5"
  }
 },
 "nbformat": 4,
 "nbformat_minor": 5
}
